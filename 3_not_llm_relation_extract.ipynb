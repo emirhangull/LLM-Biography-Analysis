{
 "cells": [
  {
   "cell_type": "code",
   "execution_count": 6,
   "id": "5ef03de6",
   "metadata": {},
   "outputs": [],
   "source": [
    "import json\n",
    "from tqdm import tqdm\n",
    "\n",
    "with open(\"structured_bios_new_english_fixed.json\", \"r\", encoding=\"utf-8\") as f:\n",
    "    people = json.load(f)"
   ]
  },
  {
   "cell_type": "code",
   "execution_count": 7,
   "id": "5154c84b",
   "metadata": {},
   "outputs": [],
   "source": [
    "def years_overlap(y1, y2):\n",
    "    \"\"\"iki yıl aralığı çakışıyor mu (örn: 2005-2010 vs 2008-2012)\"\"\"\n",
    "    try:\n",
    "        s1, e1 = [int(y) for y in y1.split(\"-\")]\n",
    "        s2, e2 = [int(y) for y in y2.split(\"-\")]\n",
    "        return max(s1, s2) <= min(e1, e2)\n",
    "    except:\n",
    "        return False\n"
   ]
  },
  {
   "cell_type": "code",
   "execution_count": 8,
   "id": "1efb4844",
   "metadata": {},
   "outputs": [
    {
     "name": "stderr",
     "output_type": "stream",
     "text": [
      "100%|██████████| 243/243 [00:00<00:00, 386.19it/s]\n"
     ]
    }
   ],
   "source": [
    "results = []\n",
    "\n",
    "for i in tqdm(range(len(people))):\n",
    "    for j in range(i + 1, len(people)):\n",
    "        p1 = people[i]\n",
    "        p2 = people[j]\n",
    "        rels = []\n",
    "\n",
    "        # AYNI_MEMLEKETTEN\n",
    "        if p1[\"dogum_yeri\"] == p2[\"dogum_yeri\"]:\n",
    "            rels.append(\"AYNI_MEMLEKETTEN\")\n",
    "\n",
    "        # OKUL ilişkileri (ve yıl çakışması)\n",
    "        for okul, yil in [(\"ilkokul\", \"ilkokul_yillari\"), (\"lise\", \"lise_yillari\"),\n",
    "                          (\"universite\", \"universite_yillari\"), (\"yuksek_lisans\", \"yuksek_lisans_yillari\"),\n",
    "                          (\"doktora\", \"doktora_yillari\")]:\n",
    "            if p1.get(okul) and p1.get(okul) == p2.get(okul):\n",
    "                if p1.get(yil) and p2.get(yil) and years_overlap(p1[yil], p2[yil]):\n",
    "                    rel_ad = okul.upper() + \"_ARKADASI\"\n",
    "                    rels.append(rel_ad)\n",
    "\n",
    "        # MESLEKTAŞ\n",
    "        if p1.get(\"bolum\") and p1.get(\"bolum\") == p2.get(\"bolum\"):\n",
    "            rels.append(\"MESLEKTAS\")\n",
    "\n",
    "        # AYNI_KURUMDA_CALISMIŞ\n",
    "        ortak_kurum = set(p1.get(\"calistigi_kurumlar\", [])) & set(p2.get(\"calistigi_kurumlar\", []))\n",
    "        if ortak_kurum:\n",
    "            rels.append(\"AYNI_KURUMDA_CALISMIS\")\n",
    "\n",
    "        # İLİŞKİ VARSA HER İKİ YÖNDE DE EKLE\n",
    "        if rels:\n",
    "            # p1 -> p2 yönünde\n",
    "            results.append({\n",
    "                \"source\": p1[\"ad\"],\n",
    "                \"target\": p2[\"ad\"],\n",
    "                \"relations\": rels\n",
    "            })\n",
    "            \n",
    "            # p2 -> p1 yönünde (ters yön)\n",
    "            results.append({\n",
    "                \"source\": p2[\"ad\"],\n",
    "                \"target\": p1[\"ad\"],\n",
    "                \"relations\": rels\n",
    "            })\n",
    "            \n"
   ]
  },
  {
   "cell_type": "code",
   "execution_count": 9,
   "id": "fbaaf5a9",
   "metadata": {},
   "outputs": [
    {
     "data": {
      "text/plain": [
       "'# Sonuçları kaydet\\nwith open(\"automated_relationships.json\", \"w\", encoding=\"utf-8\") as f:\\n    json.dump(results, f, ensure_ascii=False, indent=2)\\n\\nprint(f\"{len(results)} ilişki bulundu.\")'"
      ]
     },
     "execution_count": 9,
     "metadata": {},
     "output_type": "execute_result"
    }
   ],
   "source": [
    "\"\"\"# Sonuçları kaydet\n",
    "with open(\"automated_relationships.json\", \"w\", encoding=\"utf-8\") as f:\n",
    "    json.dump(results, f, ensure_ascii=False, indent=2)\n",
    "\n",
    "print(f\"{len(results)} ilişki bulundu.\")\"\"\""
   ]
  },
  {
   "cell_type": "code",
   "execution_count": 10,
   "id": "439cb02a",
   "metadata": {},
   "outputs": [
    {
     "name": "stdout",
     "output_type": "stream",
     "text": [
      "✅ relation_lise_arkadasi.csv oluşturuldu - 3188 ilişki\n",
      "✅ relation_ayni_kurumda_calismis.csv oluşturuldu - 6970 ilişki\n",
      "✅ relation_universite_arkadasi.csv oluşturuldu - 6426 ilişki\n",
      "✅ relation_ayni_memleketten.csv oluşturuldu - 6508 ilişki\n",
      "✅ relation_meslektas.csv oluşturuldu - 3742 ilişki\n",
      "✅ relation_yuksek_lisans_arkadasi.csv oluşturuldu - 3028 ilişki\n",
      "✅ relation_ilkokul_arkadasi.csv oluşturuldu - 210 ilişki\n",
      "✅ relation_doktora_arkadasi.csv oluşturuldu - 22 ilişki\n",
      "\n",
      "📊 Toplam 21512 ilişki bulundu.\n",
      "📁 Oluşturulan dosyalar:\n",
      "- automated_relationships_all.csv (tüm ilişkiler)\n",
      "- relation_ayni_kurumda_calismis.csv\n",
      "- relation_ayni_memleketten.csv\n",
      "- relation_doktora_arkadasi.csv\n",
      "- relation_ilkokul_arkadasi.csv\n",
      "- relation_lise_arkadasi.csv\n",
      "- relation_meslektas.csv\n",
      "- relation_universite_arkadasi.csv\n",
      "- relation_yuksek_lisans_arkadasi.csv\n"
     ]
    }
   ],
   "source": [
    "# Sonuçları kaydet - Her relation türü için ayrı CSV dosyası\n",
    "import csv\n",
    "from collections import defaultdict\n",
    "\n",
    "# Her relation türü için ayrı liste oluştur\n",
    "relation_data = defaultdict(list)\n",
    "\n",
    "for result in results:\n",
    "    for relation in result[\"relations\"]:\n",
    "        relation_data[relation].append({\n",
    "            \"source\": result[\"source\"],\n",
    "            \"target\": result[\"target\"]\n",
    "        })\n",
    "\n",
    "# Her relation türü için ayrı CSV dosyası oluştur\n",
    "for relation_type, data in relation_data.items():\n",
    "    filename = f\"relation_{relation_type.lower()}.csv\"\n",
    "    \n",
    "    with open(filename, \"w\", newline='', encoding=\"utf-8\") as f:\n",
    "        writer = csv.writer(f)\n",
    "        \n",
    "        # Başlık satırı\n",
    "        writer.writerow([\"source\", \"target\", \"relation_type\"])\n",
    "        \n",
    "        # Veri satırları (zaten iki yönlü olarak eklenmiş)\n",
    "        for item in data:\n",
    "            writer.writerow([item[\"source\"], item[\"target\"], relation_type])\n",
    "    \n",
    "    print(f\"✅ {filename} oluşturuldu - {len(data)} ilişki\")\n",
    "\n",
    "# Ana CSV dosyası da oluştur (tüm ilişkiler)\n",
    "with open(\"automated_relationships_all.csv\", \"w\", newline='', encoding=\"utf-8\") as f:\n",
    "    writer = csv.writer(f)\n",
    "    \n",
    "    # Başlık satırı\n",
    "    writer.writerow([\"source\", \"target\", \"relation_type\"])\n",
    "    \n",
    "    # Tüm ilişkileri tek tek yaz\n",
    "    for result in results:\n",
    "        for relation in result[\"relations\"]:\n",
    "            writer.writerow([result[\"source\"], result[\"target\"], relation])\n",
    "\n",
    "print(f\"\\n📊 Toplam {len(results)} ilişki bulundu.\")\n",
    "print(\"📁 Oluşturulan dosyalar:\")\n",
    "print(\"- automated_relationships_all.csv (tüm ilişkiler)\")\n",
    "\n",
    "# Her relation türü için dosya listesi\n",
    "unique_relations = set()\n",
    "for result in results:\n",
    "    unique_relations.update(result[\"relations\"])\n",
    "\n",
    "for relation in sorted(unique_relations):\n",
    "    print(f\"- relation_{relation.lower()}.csv\")"
   ]
  }
 ],
 "metadata": {
  "kernelspec": {
   "display_name": "venv",
   "language": "python",
   "name": "python3"
  },
  "language_info": {
   "codemirror_mode": {
    "name": "ipython",
    "version": 3
   },
   "file_extension": ".py",
   "mimetype": "text/x-python",
   "name": "python",
   "nbconvert_exporter": "python",
   "pygments_lexer": "ipython3",
   "version": "3.12.7"
  }
 },
 "nbformat": 4,
 "nbformat_minor": 5
}
